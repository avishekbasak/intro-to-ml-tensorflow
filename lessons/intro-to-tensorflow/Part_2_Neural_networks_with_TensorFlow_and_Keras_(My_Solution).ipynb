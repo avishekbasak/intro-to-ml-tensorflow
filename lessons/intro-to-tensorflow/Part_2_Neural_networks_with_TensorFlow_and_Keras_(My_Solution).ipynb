{
  "nbformat": 4,
  "nbformat_minor": 0,
  "metadata": {
    "accelerator": "GPU",
    "colab": {
      "name": "Part 2 - Neural networks with TensorFlow and Keras (Solution).ipynb",
      "provenance": [],
      "collapsed_sections": [],
      "include_colab_link": true
    },
    "kernelspec": {
      "display_name": "Python 3",
      "language": "python",
      "name": "python3"
    },
    "language_info": {
      "codemirror_mode": {
        "name": "ipython",
        "version": 3
      },
      "file_extension": ".py",
      "mimetype": "text/x-python",
      "name": "python",
      "nbconvert_exporter": "python",
      "pygments_lexer": "ipython3",
      "version": "3.6.8"
    }
  },
  "cells": [
    {
      "cell_type": "markdown",
      "metadata": {
        "id": "view-in-github",
        "colab_type": "text"
      },
      "source": [
        "<a href=\"https://colab.research.google.com/github/avishekbasak/intro-to-ml-tensorflow/blob/GoogleColab/lessons/intro-to-tensorflow/Part_2_Neural_networks_with_TensorFlow_and_Keras_(My_Solution).ipynb\" target=\"_parent\"><img src=\"https://colab.research.google.com/assets/colab-badge.svg\" alt=\"Open In Colab\"/></a>"
      ]
    },
    {
      "cell_type": "markdown",
      "metadata": {
        "colab_type": "text",
        "id": "bdP73PAAm6bu"
      },
      "source": [
        "# Neural Networks with TensorFlow and Keras\n",
        "\n",
        "Deep neural networks tend to be massive with dozens or even hundreds of layers, that's where the term \"deep\" comes from. You can build one of these deep networks using only weight matrices as we did in the previous notebook, but in general it's very cumbersome and difficult to implement. TensorFlow has a nice API called **Keras** that provides a nice way to efficiently build large neural networks."
      ]
    },
    {
      "cell_type": "markdown",
      "metadata": {
        "colab_type": "text",
        "id": "AHb_h16-YOes"
      },
      "source": [
        "## Import Resources"
      ]
    },
    {
      "cell_type": "code",
      "metadata": {
        "id": "o-Qo2ne6zCGd",
        "colab_type": "code",
        "colab": {}
      },
      "source": [
        "import warnings\n",
        "warnings.filterwarnings('ignore')"
      ],
      "execution_count": 0,
      "outputs": []
    },
    {
      "cell_type": "code",
      "metadata": {
        "colab_type": "code",
        "id": "TVpuOzdonZdj",
        "colab": {}
      },
      "source": [
        "%matplotlib inline\n",
        "%config InlineBackend.figure_format = 'retina'\n",
        "\n",
        "import numpy as np\n",
        "import matplotlib.pyplot as plt\n",
        "\n",
        "import tensorflow as tf\n",
        "import tensorflow_datasets as tfds\n",
        "tfds.disable_progress_bar()"
      ],
      "execution_count": 0,
      "outputs": []
    },
    {
      "cell_type": "code",
      "metadata": {
        "id": "rwXe_drjzCGl",
        "colab_type": "code",
        "colab": {}
      },
      "source": [
        "import logging\n",
        "logger = tf.get_logger()\n",
        "logger.setLevel(logging.ERROR)"
      ],
      "execution_count": 0,
      "outputs": []
    },
    {
      "cell_type": "code",
      "metadata": {
        "colab_type": "code",
        "id": "NBOTTYzQVaLz",
        "outputId": "16f57043-360b-4c56-faa9-4f43f290acfd",
        "colab": {
          "base_uri": "https://localhost:8080/",
          "height": 85
        }
      },
      "source": [
        "print('Using:')\n",
        "print('\\t\\u2022 TensorFlow version:', tf.__version__)\n",
        "print('\\t\\u2022 tf.keras version:', tf.keras.__version__)\n",
        "print('\\t\\u2022 Running on GPU' if tf.test.is_gpu_available() else '\\t\\u2022 GPU device not found. Running on CPU')"
      ],
      "execution_count": 41,
      "outputs": [
        {
          "output_type": "stream",
          "text": [
            "Using:\n",
            "\t• TensorFlow version: 2.2.0\n",
            "\t• tf.keras version: 2.3.0-tf\n",
            "\t• Running on GPU\n"
          ],
          "name": "stdout"
        }
      ]
    },
    {
      "cell_type": "markdown",
      "metadata": {
        "colab_type": "text",
        "id": "tcHviD_uYQ5R"
      },
      "source": [
        "## Load the Dataset"
      ]
    },
    {
      "cell_type": "markdown",
      "metadata": {
        "colab_type": "text",
        "id": "Y8cMpbPrngfy"
      },
      "source": [
        "Now we're going to build a larger network that can solve a (formerly) difficult problem, identifying text in an image. Here we'll use the MNIST dataset which consists of greyscale handwritten digits. Each image is 28x28 pixels, you can see a sample below\n",
        "\n",
        "<img src='https://github.com/avishekbasak/intro-to-ml-tensorflow/blob/GoogleColab/lessons/intro-to-tensorflow/assets/mnist.png?raw=1'>\n",
        "\n",
        "Our goal is to build a neural network that can take one of these images and predict the digit in the image.\n",
        "\n",
        "First up, we need to get the dataset we are going to use to train and test our Neural Network. We will get our dataset using the [`tensorflow_datasets`](https://www.tensorflow.org/datasets) package. TensorFlow Datasets is a repository of datasets ready to use with TensorFlow. TensorFlow Datasets has a wide variety of datasets to train your machine learning models for many different tasks, ranging from text to video. For a full list of the datasets available in TensorFlow Datasets check out the [TensorFlow Datasets Catalog](https://www.tensorflow.org/datasets/catalog/overview#all_datasets).\n",
        "\n",
        "\n",
        "The code below will load the MNIST dataset. "
      ]
    },
    {
      "cell_type": "code",
      "metadata": {
        "colab_type": "code",
        "id": "C1g79MKHnhsT",
        "colab": {}
      },
      "source": [
        "# Load training data\n",
        "training_set, dataset_info = tfds.load('mnist', split = 'train', as_supervised = True, with_info = True)"
      ],
      "execution_count": 0,
      "outputs": []
    },
    {
      "cell_type": "markdown",
      "metadata": {
        "colab_type": "text",
        "id": "82QelXpcYdmD"
      },
      "source": [
        "## Inspect the Dataset"
      ]
    },
    {
      "cell_type": "markdown",
      "metadata": {
        "colab_type": "text",
        "id": "VjDZz2a90Iyb"
      },
      "source": [
        "We have loaded the training data into `training_set` and loaded dataset information into `dataset_info`.  Let's get the total number of classes and the total number of images in our training set from `dataset_info`."
      ]
    },
    {
      "cell_type": "code",
      "metadata": {
        "colab_type": "code",
        "id": "9euLZQJD0g05",
        "outputId": "b83ad111-b2b9-4cba-f10a-985bf0c0ba05",
        "colab": {
          "base_uri": "https://localhost:8080/",
          "height": 68
        }
      },
      "source": [
        "num_classes = dataset_info.features['label'].num_classes\n",
        "print('There are {:,} classes in our dataset'.format(num_classes))\n",
        "\n",
        "num_training_examples = dataset_info.splits['train'].num_examples\n",
        "print('\\nThere are {:,} images in the training set'.format(num_training_examples))"
      ],
      "execution_count": 43,
      "outputs": [
        {
          "output_type": "stream",
          "text": [
            "There are 10 classes in our dataset\n",
            "\n",
            "There are 60,000 images in the training set\n"
          ],
          "name": "stdout"
        }
      ]
    },
    {
      "cell_type": "markdown",
      "metadata": {
        "colab_type": "text",
        "id": "WpZNLP-QnyRG"
      },
      "source": [
        "We can use `training_set` as an iterator so, we can use the following statement to loop through the dataset:\n",
        "\n",
        "```python\n",
        "for image, label in training_set:\n",
        "    ## do things with images and labels\n",
        "```\n",
        "\n",
        "Let's print the shape and dtype of our images and labels. We'll use the `.take(1)` method to only choose one element from our dataset. Since our dataset consists of images, the `.take(1)` method will choose only one image. "
      ]
    },
    {
      "cell_type": "code",
      "metadata": {
        "colab_type": "code",
        "id": "n1EXyPuDnywu",
        "outputId": "53b40093-bf0c-429d-c32c-b0cc159962a8",
        "colab": {
          "base_uri": "https://localhost:8080/",
          "height": 119
        }
      },
      "source": [
        "for image, label in training_set.take(1):\n",
        "    print('The images in the training set have:')\n",
        "    print('\\u2022 dtype:', image.dtype) \n",
        "    print('\\u2022 shape:', image.shape)\n",
        "  \n",
        "    print('\\nThe labels of the images have:')\n",
        "    print('\\u2022 dtype:', label.dtype) "
      ],
      "execution_count": 44,
      "outputs": [
        {
          "output_type": "stream",
          "text": [
            "The images in the training set have:\n",
            "• dtype: <dtype: 'uint8'>\n",
            "• shape: (28, 28, 1)\n",
            "\n",
            "The labels of the images have:\n",
            "• dtype: <dtype: 'int64'>\n"
          ],
          "name": "stdout"
        }
      ]
    },
    {
      "cell_type": "markdown",
      "metadata": {
        "colab_type": "text",
        "id": "gcgow6H54ujJ"
      },
      "source": [
        "The images in our dataset are tensors of `shape = (28, 28, 1)` and `dtype = uint8`. `unit8` represents an 8-bit unsigned integer and can hold integers in the range 0 to 255. On the other hand, the labels of our images are tensors of `dtype = int64`, which means they are 64-bit signed integers. Now let's see what an image from our dataset looks like. In order to plot our images, we will have to convert them from TensorFlow tensors to NumPy ndarrays first, by using the `.numpy()` method. Since the images have `shape = (28, 28, 1)` we will use the `.squeeze()` method to reshape the images to have `shape = (28, 28)`. The `.squeeze()` method removes single-dimensional entries from the shape of an ndarray."
      ]
    },
    {
      "cell_type": "code",
      "metadata": {
        "colab_type": "code",
        "id": "z7MooIVjn34f",
        "outputId": "e6e535a5-e8fd-4b00-8d89-c7040d0247c1",
        "colab": {
          "base_uri": "https://localhost:8080/",
          "height": 282
        }
      },
      "source": [
        "for image, label in training_set.take(1):\n",
        "    image = image.numpy().squeeze()\n",
        "    label = label.numpy()\n",
        "    \n",
        "# Plot the image\n",
        "plt.imshow(image, cmap = plt.cm.binary)\n",
        "plt.colorbar()\n",
        "plt.show()\n",
        "\n",
        "print('The label of this image is:', label)"
      ],
      "execution_count": 45,
      "outputs": [
        {
          "output_type": "display_data",
          "data": {
            "image/png": "[encoded data removed]",
            "text/plain": [
              "<Figure size 432x288 with 2 Axes>"
            ]
          },
          "metadata": {
            "tags": [],
            "image/png": {
              "width": 305,
              "height": 248
            },
            "needs_background": "light"
          }
        },
        {
          "output_type": "stream",
          "text": [
            "The label of this image is: 4\n"
          ],
          "name": "stdout"
        }
      ]
    },
    {
      "cell_type": "markdown",
      "metadata": {
        "colab_type": "text",
        "id": "GJkmaOsyYpOz"
      },
      "source": [
        "## Create Pipeline"
      ]
    },
    {
      "cell_type": "markdown",
      "metadata": {
        "colab_type": "text",
        "id": "u5emVveHn7X6"
      },
      "source": [
        "As we can see, the pixel values of our images are in the range `[0, 255]`. We will now normalize the images and create a pipeline with our training set so that it can be fed into our neural network. In order to normalize the images we are going to divide the pixel values by 255. We will therefore, first change the `dtype` of our image from `uint8` to `float32`  (32-bit single-precision floating-point numbers) using the `tf.cast` function."
      ]
    },
    {
      "cell_type": "code",
      "metadata": {
        "colab_type": "code",
        "id": "3g_jqq96n8Ft",
        "colab": {}
      },
      "source": [
        "def normalize(image, label):\n",
        "    image = tf.cast(image, tf.float32)\n",
        "    image /= 255\n",
        "    return image, label\n",
        "\n",
        "batch_size = 64\n",
        "\n",
        "training_batches = training_set.cache().shuffle(num_training_examples//4).batch(batch_size).map(normalize).prefetch(1)"
      ],
      "execution_count": 0,
      "outputs": []
    },
    {
      "cell_type": "markdown",
      "metadata": {
        "colab_type": "text",
        "id": "AXQPznKeoBcx"
      },
      "source": [
        "You'll notice we created the pipeline with a batch size of `64`, and that we are shuffling our dataset. The batch size is the number of images we get in one iteration and are passed through our network, often called a *batch*. The `shuffle` transformation randomly shuffles the elements of our dataset before being fed to our network.\n",
        "\n",
        "Although many of these transformations are commutative, the ordering of certain transformations has performance implications. For more information on these transformations and their impact on performance make sure to check the following links:\n",
        "\n",
        "* [Pipeline Performance](https://www.tensorflow.org/beta/guide/data_performance)\n",
        "\n",
        "\n",
        "* [Transformations](https://www.tensorflow.org/api_docs/python/tf/data/Dataset)\n",
        "\n",
        "Now that we have our `training_batches` let's inspect them:"
      ]
    },
    {
      "cell_type": "code",
      "metadata": {
        "colab_type": "code",
        "id": "Yh3fw8YvoB_N",
        "outputId": "3f426fee-9308-46fa-e8cf-cac2050d2cd3",
        "colab": {
          "base_uri": "https://localhost:8080/",
          "height": 136
        }
      },
      "source": [
        "for image_batch, label_batch in training_batches.take(1):\n",
        "    print('The images in each batch have:')\n",
        "    print('\\u2022 dtype:', image_batch.dtype) \n",
        "    print('\\u2022 shape:', image_batch.shape)\n",
        "  \n",
        "    print('\\nThere are a total of {} image labels in this batch:'.format(label_batch.numpy().size))\n",
        "    print(label_batch.numpy())"
      ],
      "execution_count": 47,
      "outputs": [
        {
          "output_type": "stream",
          "text": [
            "The images in each batch have:\n",
            "• dtype: <dtype: 'float32'>\n",
            "• shape: (64, 28, 28, 1)\n",
            "\n",
            "There are a total of 64 image labels in this batch:\n",
            "[6 8 4 4 1 6 0 4 8 1 5 4 7 3 8 1 5 5 3 9 0 5 1 8 2 6 4 0 9 1 0 0 4 6 1 5 0\n",
            " 4 9 7 8 5 5 9 0 5 7 9 6 4 6 5 6 0 5 4 8 2 9 9 7 8 7 4]\n"
          ],
          "name": "stdout"
        }
      ]
    },
    {
      "cell_type": "markdown",
      "metadata": {
        "colab_type": "text",
        "id": "BKyE_NeNoGo5"
      },
      "source": [
        "Now, let's see how we can grab a single image from our one of our batches."
      ]
    },
    {
      "cell_type": "code",
      "metadata": {
        "colab_type": "code",
        "id": "Td2-DArEoHHu",
        "outputId": "606cd694-387e-43b7-9972-5f3f401457c0",
        "colab": {
          "base_uri": "https://localhost:8080/",
          "height": 286
        }
      },
      "source": [
        "# Take a single batch of images, and remove the color dimension by squeezing it\n",
        "for image_batch, label_batch in training_batches.take(1):\n",
        "    images = image_batch.numpy().squeeze()\n",
        "    labels = label_batch.numpy()\n",
        "\n",
        "# Plot the image\n",
        "plt.imshow(images[0], cmap = plt.cm.binary)\n",
        "plt.colorbar()\n",
        "plt.show()\n",
        "\n",
        "print('The label of this image is:', labels[0])"
      ],
      "execution_count": 48,
      "outputs": [
        {
          "output_type": "display_data",
          "data": {
            "image/png": "[encoded data removed]",
            "text/plain": [
              "<Figure size 432x288 with 2 Axes>"
            ]
          },
          "metadata": {
            "tags": [],
            "image/png": {
              "width": 302,
              "height": 252
            },
            "needs_background": "light"
          }
        },
        {
          "output_type": "stream",
          "text": [
            "The label of this image is: 0\n"
          ],
          "name": "stdout"
        }
      ]
    },
    {
      "cell_type": "markdown",
      "metadata": {
        "colab_type": "text",
        "id": "aa2qHmjUoMNS"
      },
      "source": [
        "## Build a Simple Neural Network\n",
        "\n",
        "First, let's try to build a simple network for this dataset using weight matrices and matrix multiplications, just like we did in the previous notebook. Then, we'll see how to do it using TensorFlow and Keras, which provides a much more convenient and powerful method for defining network architectures.\n",
        "\n",
        "The networks you've seen so far are called *fully-connected* or *dense* networks. Each unit in one layer is connected to each unit in the next layer. In fully-connected networks, the input to each layer must be a one-dimensional vector (which can be stacked into a 2D tensor as a batch of multiple examples). However, our images are 28 $\\times$ 28 2D tensors, so we need to convert them into 1D vectors. Thinking about sizes, we need to convert the batch of images with shape `(64, 28, 28, 1)` to a have a shape of `(64, 784)`, 784 is 28 times 28. This is typically called *flattening*, we flattened the 2D images into 1D vectors.\n",
        "\n",
        "In the previous notebook, you built a network with one output unit. Here we need 10 output units, one for each digit. We want our network to predict the digit shown in an image, so what we'll do, is calculate the probabilities that the image is of any one digit or class. This ends up being a discrete probability distribution over the classes (digits) that tells us the most likely class for the image. That means we need 10 output units for the 10 classes (digits). We'll see how to convert the network output into a probability distribution next.\n",
        "\n",
        "> **Exercise:** Flatten the batch of images `images` that we've created above. Then build a simple network with 784 input units, 256 hidden units, and 10 output units using random tensors for the weights and biases. For now, use a sigmoid activation function for the units in the hidden layer. Leave the output layer without an activation, we'll add one that gives us a probability distribution next. **HINT:** You can use the [`tf.reshape()`](https://www.tensorflow.org/versions/r2.0/api_docs/python/tf/reshape) function to flatten the batch of images."
      ]
    },
    {
      "cell_type": "code",
      "metadata": {
        "colab_type": "code",
        "id": "69pQ7bEIoMw0",
        "outputId": "a3334a35-3970-400f-b6cd-a8d57a9364c3",
        "colab": {
          "base_uri": "https://localhost:8080/",
          "height": 51
        }
      },
      "source": [
        "## Solution\n",
        "def sigmoid(x):\n",
        "  '''\n",
        "  Sigmoid Activation Function\n",
        "  '''\n",
        "  return 1 / (1 + tf.exp(-x))\n",
        "\n",
        "input_data = tf.reshape(images , [images.shape[0] , -1]) \n",
        "\n",
        "# Print the shape of the input\n",
        "print('The input has shape:', input_data.shape)\n",
        "\n",
        "n_input = input_data.shape[1]\n",
        "n_hidden = 256\n",
        "n_output = 10\n",
        "\n",
        "#Weights\n",
        "W1 = tf.random.normal((n_input , n_hidden))\n",
        "W2 = tf.random.normal((n_hidden , n_output))\n",
        "\n",
        "#Bias\n",
        "B1 = tf.random.normal((1,n_hidden))\n",
        "B2 = tf.random.normal((1,n_output))\n",
        "\n",
        "#Hidden layer\n",
        "h = sigmoid(tf.matmul(input_data , W1) + B1)\n",
        "\n",
        "output = tf.matmul(h , W2) + B2\n",
        "\n",
        "# Print the shape of the output. It should be (64,10)\n",
        "print('The output has shape:', output.shape)"
      ],
      "execution_count": 15,
      "outputs": [
        {
          "output_type": "stream",
          "text": [
            "The input has shape: (64, 784)\n",
            "The output has shape: (64, 10)\n"
          ],
          "name": "stdout"
        }
      ]
    },
    {
      "cell_type": "markdown",
      "metadata": {
        "colab_type": "text",
        "id": "p6YnpZowoSz2"
      },
      "source": [
        "Now we have 10 outputs for our network. We want to pass in an image to our network and get out a probability distribution over the classes that tells us the most likely class(es) the image belongs to. Something that looks like this:\n",
        "<img src='https://github.com/avishekbasak/intro-to-ml-tensorflow/blob/GoogleColab/lessons/intro-to-tensorflow/assets/image_distribution.png?raw=1' width=500px>\n",
        "\n",
        "Here we see that the probability for each class is roughly the same. This is representing an untrained network, it hasn't seen any data yet so it just returns a uniform distribution with equal probabilities for each class.\n",
        "\n",
        "To calculate this probability distribution, we often use the [**softmax** function](https://en.wikipedia.org/wiki/Softmax_function). Mathematically this looks like\n",
        "\n",
        "$$\n",
        "\\Large \\sigma(x_i) = \\cfrac{e^{x_i}}{\\sum_k^K{e^{x_k}}}\n",
        "$$\n",
        "\n",
        "What this does is squish each input $x_i$ between 0 and 1 and normalizes the values to give you a proper probability distribution where the probabilities sum up to one.\n",
        "\n",
        "> **Exercise:** Implement a function `softmax` that performs the softmax calculation and returns probability distributions for each example in the batch. Note that you'll need to pay attention to the shapes when doing this. If you have a tensor `a` with shape `(64, 10)` and a tensor `b` with shape `(64,)`, doing `a/b` will give you an error because TensorFlow will try to do the division across the columns (called broadcasting) but you'll get a size mismatch. The way to think about this is the following: for each of the 64 examples, you only want to divide by one value, the sum in the denominator. So you need `b` to have a shape of `(64, 1)`. This way TensorFlow will divide the 10 values in each row of `a` by the one value in each row of `b`. Pay attention to how you take the sum as well. You'll need to define the `axis` keyword in `tf.reduce_sum()`. Setting `axis=0` takes the sum across the rows while `axis=1` takes the sum across the columns. You will also need to use the `keepdims` keyword in `tf.reduce_sum()` to make sure the output tensor has the correct shape `(64,1)`."
      ]
    },
    {
      "cell_type": "code",
      "metadata": {
        "colab_type": "code",
        "id": "mPtaB817oTTe",
        "outputId": "0f6fddb5-8187-42ef-bd09-05d1f89bc258",
        "colab": {
          "base_uri": "https://localhost:8080/",
          "height": 1000
        }
      },
      "source": [
        "## Solution\n",
        "def softmax(x):\n",
        "  return tf.exp(x) / tf.reduce_sum(tf.exp(x) , axis = 1, keepdims= True)\n",
        "\n",
        "# Apply softmax to the output\n",
        "probabilities = softmax(output)\n",
        "\n",
        "# Print the shape of the probabilities. Should be (64, 10).\n",
        "print('The probabilities have shape:', probabilities.shape, '\\n')\n",
        "\n",
        "\n",
        "# The sum of probabilities for each of the 64 images should be 1\n",
        "sum_all_prob = tf.reduce_sum(probabilities, axis = 1).numpy()\n",
        "\n",
        "# Print the sum of the probabilities for each image.\n",
        "for i, prob_sum in enumerate(sum_all_prob):\n",
        "    print('Sum of probabilities for Image {}: {:.1f}'.format(i+1, prob_sum))"
      ],
      "execution_count": 49,
      "outputs": [
        {
          "output_type": "stream",
          "text": [
            "The probabilities have shape: (64, 10) \n",
            "\n",
            "Sum of probabilities for Image 1: 1.0\n",
            "Sum of probabilities for Image 2: 1.0\n",
            "Sum of probabilities for Image 3: 1.0\n",
            "Sum of probabilities for Image 4: 1.0\n",
            "Sum of probabilities for Image 5: 1.0\n",
            "Sum of probabilities for Image 6: 1.0\n",
            "Sum of probabilities for Image 7: 1.0\n",
            "Sum of probabilities for Image 8: 1.0\n",
            "Sum of probabilities for Image 9: 1.0\n",
            "Sum of probabilities for Image 10: 1.0\n",
            "Sum of probabilities for Image 11: 1.0\n",
            "Sum of probabilities for Image 12: 1.0\n",
            "Sum of probabilities for Image 13: 1.0\n",
            "Sum of probabilities for Image 14: 1.0\n",
            "Sum of probabilities for Image 15: 1.0\n",
            "Sum of probabilities for Image 16: 1.0\n",
            "Sum of probabilities for Image 17: 1.0\n",
            "Sum of probabilities for Image 18: 1.0\n",
            "Sum of probabilities for Image 19: 1.0\n",
            "Sum of probabilities for Image 20: 1.0\n",
            "Sum of probabilities for Image 21: 1.0\n",
            "Sum of probabilities for Image 22: 1.0\n",
            "Sum of probabilities for Image 23: 1.0\n",
            "Sum of probabilities for Image 24: 1.0\n",
            "Sum of probabilities for Image 25: 1.0\n",
            "Sum of probabilities for Image 26: 1.0\n",
            "Sum of probabilities for Image 27: 1.0\n",
            "Sum of probabilities for Image 28: 1.0\n",
            "Sum of probabilities for Image 29: 1.0\n",
            "Sum of probabilities for Image 30: 1.0\n",
            "Sum of probabilities for Image 31: 1.0\n",
            "Sum of probabilities for Image 32: 1.0\n",
            "Sum of probabilities for Image 33: 1.0\n",
            "Sum of probabilities for Image 34: 1.0\n",
            "Sum of probabilities for Image 35: 1.0\n",
            "Sum of probabilities for Image 36: 1.0\n",
            "Sum of probabilities for Image 37: 1.0\n",
            "Sum of probabilities for Image 38: 1.0\n",
            "Sum of probabilities for Image 39: 1.0\n",
            "Sum of probabilities for Image 40: 1.0\n",
            "Sum of probabilities for Image 41: 1.0\n",
            "Sum of probabilities for Image 42: 1.0\n",
            "Sum of probabilities for Image 43: 1.0\n",
            "Sum of probabilities for Image 44: 1.0\n",
            "Sum of probabilities for Image 45: 1.0\n",
            "Sum of probabilities for Image 46: 1.0\n",
            "Sum of probabilities for Image 47: 1.0\n",
            "Sum of probabilities for Image 48: 1.0\n",
            "Sum of probabilities for Image 49: 1.0\n",
            "Sum of probabilities for Image 50: 1.0\n",
            "Sum of probabilities for Image 51: 1.0\n",
            "Sum of probabilities for Image 52: 1.0\n",
            "Sum of probabilities for Image 53: 1.0\n",
            "Sum of probabilities for Image 54: 1.0\n",
            "Sum of probabilities for Image 55: 1.0\n",
            "Sum of probabilities for Image 56: 1.0\n",
            "Sum of probabilities for Image 57: 1.0\n",
            "Sum of probabilities for Image 58: 1.0\n",
            "Sum of probabilities for Image 59: 1.0\n",
            "Sum of probabilities for Image 60: 1.0\n",
            "Sum of probabilities for Image 61: 1.0\n",
            "Sum of probabilities for Image 62: 1.0\n",
            "Sum of probabilities for Image 63: 1.0\n",
            "Sum of probabilities for Image 64: 1.0\n"
          ],
          "name": "stdout"
        }
      ]
    },
    {
      "cell_type": "markdown",
      "metadata": {
        "colab_type": "text",
        "id": "GmUrxgU5dK3w"
      },
      "source": [
        "## Building Neural Networks with TensorFlow and Keras\n",
        "\n",
        "Keras is a high-level API to build and train neural networks. `tf.keras` is TensorFlow's implementation of the Keras API. In Keras, deep learning models are constructed by connecting configurable building blocks called **layers**. The most common type of model is a stack of layers called a **Sequential** model. The model is called sequential because it allows a tensor to be passed sequentially through the operations in each layer. In TensorFlow, the sequential model is implemented with `tf.keras.Sequential`. \n",
        "\n",
        "In the cell below, we will use a Keras sequential model to build the same fully-connected neural network that we built in the previous section. Our sequential model will have three layers:\n",
        "\n",
        "* **Input Layer:** `tf.keras.layers.Flatten` — This layer flattens the images by transforming a 2d-array of 28 $\\times$ 28 pixels, to a 1d-array of 784 pixels (28 $\\times$ 28 = 784). The first layer in a Sequential model needs to know the shape of the input tensors to the model. Since, this is our first layer, we need to specify the shape of our input tensors using the `input_shape` argument. The `input_shape` is specified using a tuple that contains the size of our images and the number of color channels. It is important to note that we don't have to include the batch size in the tuple. The tuple can have integers or `None` entries, where `None` entries indicate that any positive integer may be expected.\n",
        "\n",
        "* **Hidden Layer:** `tf.keras.layers.Dense` — A fully-connected (also known as densely connected) layer. For this layer we need to specify the number of neurons (or nodes) we want to use and the activation function. Note that we don't have to specify the shape of the input tensor to this layer, since Keras performs automatic shape inference for all layers except for the first layer. In this particular case, we are going to use `256` neurons with a `sigmoid` activation fucntion. \n",
        "\n",
        "* **Output Layer:** `tf.keras.layers.Dense` — A fully-connected layer with 10 neurons and a *softmax* activation function. The output values will represent the probability that the image is a particular digit. The sum of all the 10 nodes values is 1."
      ]
    },
    {
      "cell_type": "code",
      "metadata": {
        "colab_type": "code",
        "id": "tujWgGJ1emo_",
        "outputId": "e23c41c4-9882-40c8-e515-e857c80a5b22",
        "colab": {
          "base_uri": "https://localhost:8080/",
          "height": 255
        }
      },
      "source": [
        "model = tf.keras.Sequential([\n",
        "        tf.keras.layers.Flatten(input_shape = (28,28,1)),\n",
        "        tf.keras.layers.Dense(256, activation = 'sigmoid'),\n",
        "        tf.keras.layers.Dense(10, activation = 'softmax')\n",
        "])\n",
        "\n",
        "model.summary()"
      ],
      "execution_count": 50,
      "outputs": [
        {
          "output_type": "stream",
          "text": [
            "Model: \"sequential_2\"\n",
            "_________________________________________________________________\n",
            "Layer (type)                 Output Shape              Param #   \n",
            "=================================================================\n",
            "flatten_2 (Flatten)          (None, 784)               0         \n",
            "_________________________________________________________________\n",
            "dense_5 (Dense)              (None, 256)               200960    \n",
            "_________________________________________________________________\n",
            "dense_6 (Dense)              (None, 10)                2570      \n",
            "=================================================================\n",
            "Total params: 203,530\n",
            "Trainable params: 203,530\n",
            "Non-trainable params: 0\n",
            "_________________________________________________________________\n"
          ],
          "name": "stdout"
        }
      ]
    },
    {
      "cell_type": "markdown",
      "metadata": {
        "colab_type": "text",
        "id": "AGqf8FCZ1bAs"
      },
      "source": [
        "### Your Turn to Build a Neural Network\n",
        "\n",
        "<img src=\"https://github.com/avishekbasak/intro-to-ml-tensorflow/blob/GoogleColab/lessons/intro-to-tensorflow/assets/mlp_mnist.png?raw=1\" width=600px>\n",
        "\n",
        "> **Exercise:** Create a network with 784 input units, a hidden layer with 128 units and a ReLU activation, then a hidden layer with 64 units and a ReLU activation, and finally an output layer with 10 units and a softmax activation function. You can use a ReLU activation function by setting `activation = 'relu'`."
      ]
    },
    {
      "cell_type": "code",
      "metadata": {
        "colab_type": "code",
        "id": "l-s_J0NC1jdH",
        "outputId": "ae990e5f-0297-4d86-82a7-e743cf72f012",
        "colab": {
          "base_uri": "https://localhost:8080/",
          "height": 289
        }
      },
      "source": [
        "## Solution\n",
        "my_model_1 = tf.keras.Sequential([\n",
        "                                  tf.keras.layers.Flatten(input_shape = (28,28,1)),\n",
        "                                  tf.keras.layers.Dense(128, activation='relu'),\n",
        "                                  tf.keras.layers.Dense(64, activation='relu'),\n",
        "                                  tf.keras.layers.Dense(10, activation='softmax')\n",
        "])\n",
        "\n",
        "my_model_1.summary()"
      ],
      "execution_count": 51,
      "outputs": [
        {
          "output_type": "stream",
          "text": [
            "Model: \"sequential_3\"\n",
            "_________________________________________________________________\n",
            "Layer (type)                 Output Shape              Param #   \n",
            "=================================================================\n",
            "flatten_3 (Flatten)          (None, 784)               0         \n",
            "_________________________________________________________________\n",
            "dense_7 (Dense)              (None, 128)               100480    \n",
            "_________________________________________________________________\n",
            "dense_8 (Dense)              (None, 64)                8256      \n",
            "_________________________________________________________________\n",
            "dense_9 (Dense)              (None, 10)                650       \n",
            "=================================================================\n",
            "Total params: 109,386\n",
            "Trainable params: 109,386\n",
            "Non-trainable params: 0\n",
            "_________________________________________________________________\n"
          ],
          "name": "stdout"
        }
      ]
    },
    {
      "cell_type": "markdown",
      "metadata": {
        "colab_type": "text",
        "id": "wdBvHoq5jnkt"
      },
      "source": [
        "## Activation Functions\n",
        "\n",
        "So far we've only been looking at the softmax activation, but in general any function can be used as an activation function. The only requirement is that for a network to approximate a non-linear function, the activation functions must be non-linear. Here are a few more examples of common activation functions: Tanh (hyperbolic tangent), and ReLU (rectified linear unit).\n",
        "\n",
        "<img src=\"https://github.com/avishekbasak/intro-to-ml-tensorflow/blob/GoogleColab/lessons/intro-to-tensorflow/assets/activation.png?raw=1\" width=700px>\n",
        "\n",
        "In practice, the ReLU function is used almost exclusively as the activation function for hidden layers."
      ]
    },
    {
      "cell_type": "markdown",
      "metadata": {
        "colab_type": "text",
        "id": "79odRUgEj8_e"
      },
      "source": [
        "## Looking at the Weights and Biases\n",
        "\n",
        "Keras automatically initializes the weights and biases. The weights and biases are tensors attached to each of the layers you defined in your model. We can get all the weights and biases from our model by using the `get_weights` method. The `get_weights` method returns a list of all the weight and bias tensors in our model as NumPy arrays."
      ]
    },
    {
      "cell_type": "code",
      "metadata": {
        "colab_type": "code",
        "id": "DxZlaMjwe-Lk",
        "outputId": "cb4e4f17-68bd-46aa-a4e1-5036b4081fdf",
        "colab": {
          "base_uri": "https://localhost:8080/",
          "height": 34
        }
      },
      "source": [
        "model_weights_biases = model.get_weights()\n",
        "\n",
        "print(type(model_weights_biases))"
      ],
      "execution_count": 52,
      "outputs": [
        {
          "output_type": "stream",
          "text": [
            "<class 'list'>\n"
          ],
          "name": "stdout"
        }
      ]
    },
    {
      "cell_type": "code",
      "metadata": {
        "colab_type": "code",
        "id": "Zktwcu9ZfAsT",
        "outputId": "12333c4a-8b55-4726-bd1d-872915ebe4c6",
        "colab": {
          "base_uri": "https://localhost:8080/",
          "height": 748
        }
      },
      "source": [
        "print('\\nThere are {:,} NumPy ndarrays in our list\\n'.format(len(model_weights_biases)))\n",
        "\n",
        "print(model_weights_biases)"
      ],
      "execution_count": 53,
      "outputs": [
        {
          "output_type": "stream",
          "text": [
            "\n",
            "There are 4 NumPy ndarrays in our list\n",
            "\n",
            "[array([[-0.06466817, -0.05479689,  0.06683411, ..., -0.05758353,\n",
            "        -0.0062434 ,  0.05396159],\n",
            "       [ 0.00730619,  0.06767084,  0.01507463, ..., -0.05360992,\n",
            "         0.03203528,  0.02627519],\n",
            "       [-0.01694082, -0.06027834,  0.03406138, ..., -0.0509445 ,\n",
            "         0.04546466, -0.07563961],\n",
            "       ...,\n",
            "       [ 0.03339293, -0.00265687,  0.04685892, ..., -0.06598537,\n",
            "        -0.0615842 ,  0.04397366],\n",
            "       [-0.04441699, -0.0128241 , -0.06795796, ...,  0.06870618,\n",
            "         0.05130851, -0.03406934],\n",
            "       [-0.03753769,  0.06826028, -0.00403748, ..., -0.05876809,\n",
            "         0.0044665 ,  0.0626896 ]], dtype=float32), array([0., 0., 0., 0., 0., 0., 0., 0., 0., 0., 0., 0., 0., 0., 0., 0., 0.,\n",
            "       0., 0., 0., 0., 0., 0., 0., 0., 0., 0., 0., 0., 0., 0., 0., 0., 0.,\n",
            "       0., 0., 0., 0., 0., 0., 0., 0., 0., 0., 0., 0., 0., 0., 0., 0., 0.,\n",
            "       0., 0., 0., 0., 0., 0., 0., 0., 0., 0., 0., 0., 0., 0., 0., 0., 0.,\n",
            "       0., 0., 0., 0., 0., 0., 0., 0., 0., 0., 0., 0., 0., 0., 0., 0., 0.,\n",
            "       0., 0., 0., 0., 0., 0., 0., 0., 0., 0., 0., 0., 0., 0., 0., 0., 0.,\n",
            "       0., 0., 0., 0., 0., 0., 0., 0., 0., 0., 0., 0., 0., 0., 0., 0., 0.,\n",
            "       0., 0., 0., 0., 0., 0., 0., 0., 0., 0., 0., 0., 0., 0., 0., 0., 0.,\n",
            "       0., 0., 0., 0., 0., 0., 0., 0., 0., 0., 0., 0., 0., 0., 0., 0., 0.,\n",
            "       0., 0., 0., 0., 0., 0., 0., 0., 0., 0., 0., 0., 0., 0., 0., 0., 0.,\n",
            "       0., 0., 0., 0., 0., 0., 0., 0., 0., 0., 0., 0., 0., 0., 0., 0., 0.,\n",
            "       0., 0., 0., 0., 0., 0., 0., 0., 0., 0., 0., 0., 0., 0., 0., 0., 0.,\n",
            "       0., 0., 0., 0., 0., 0., 0., 0., 0., 0., 0., 0., 0., 0., 0., 0., 0.,\n",
            "       0., 0., 0., 0., 0., 0., 0., 0., 0., 0., 0., 0., 0., 0., 0., 0., 0.,\n",
            "       0., 0., 0., 0., 0., 0., 0., 0., 0., 0., 0., 0., 0., 0., 0., 0., 0.,\n",
            "       0.], dtype=float32), array([[-0.01060753,  0.10502616,  0.11224318, ...,  0.06580995,\n",
            "        -0.03125972, -0.01852566],\n",
            "       [-0.09390529, -0.08907199, -0.04193854, ...,  0.02440007,\n",
            "         0.04570457,  0.05134247],\n",
            "       [ 0.09085259,  0.14456078,  0.01738888, ...,  0.07972553,\n",
            "         0.08655789,  0.14161679],\n",
            "       ...,\n",
            "       [ 0.11005774,  0.067746  ,  0.06868251, ...,  0.079153  ,\n",
            "        -0.01670402, -0.02923553],\n",
            "       [ 0.03771311, -0.11495044, -0.06302917, ...,  0.10031736,\n",
            "         0.063017  ,  0.1034328 ],\n",
            "       [-0.13208874,  0.01269712, -0.00837776, ...,  0.13477924,\n",
            "        -0.02653126,  0.09528872]], dtype=float32), array([0., 0., 0., 0., 0., 0., 0., 0., 0., 0.], dtype=float32)]\n"
          ],
          "name": "stdout"
        }
      ]
    },
    {
      "cell_type": "markdown",
      "metadata": {
        "colab_type": "text",
        "id": "IEOFFR8Yi829"
      },
      "source": [
        "We can also get the weights and biases for a specific layer by using the `get_layer` method. In this case we first specify the layer we want by using the `index` argument and the apply the `get_weights` method as we did before. For example, to get the weights and biases of the first layer of our sequential model we will use:\n",
        "\n",
        "```python\n",
        "weights = model.get_layer(index=0).get_weights()[0]\n",
        "biases = model.get_layer(index=0).get_weights()[1]\n",
        "\n",
        "```\n",
        "\n",
        "Notice, that we used `index=0` to get the first layer of our model which in this case is a `tf.keras.layers.Flatten`. Since this layer just flattens our input, it has no weights or biases. Therefore, in this case, the layer with `index=0` has no weights or biases, so calling `get_weights()[0]` will produce an error because  `get_weights()` will return an empty list (`[]`). So, when you are getting the weights and biases from each layer you should check first whether the layer has any weights or biases at all. \n",
        "\n",
        "Alternatively, you can also use the `layers` method to get a list of the layers of your model. You can then loop through the layers and check if they have weights before calling `get_weights()`. Let's see an example:"
      ]
    },
    {
      "cell_type": "code",
      "metadata": {
        "colab_type": "code",
        "id": "tcWGSl2rhMif",
        "outputId": "89c7172d-bdc3-41d2-9db2-9174ebc86356",
        "colab": {
          "base_uri": "https://localhost:8080/",
          "height": 68
        }
      },
      "source": [
        "# Dislay the layers in our model\n",
        "model.layers"
      ],
      "execution_count": 54,
      "outputs": [
        {
          "output_type": "execute_result",
          "data": {
            "text/plain": [
              "[<tensorflow.python.keras.layers.core.Flatten at 0x7f4fda6579b0>,\n",
              " <tensorflow.python.keras.layers.core.Dense at 0x7f4fda657550>,\n",
              " <tensorflow.python.keras.layers.core.Dense at 0x7f4fda188080>]"
            ]
          },
          "metadata": {
            "tags": []
          },
          "execution_count": 54
        }
      ]
    },
    {
      "cell_type": "code",
      "metadata": {
        "colab_type": "code",
        "id": "Lw1M2CWmfDU3",
        "outputId": "5d636258-9043-47c4-8609-b4afd1bcb93b",
        "colab": {
          "base_uri": "https://localhost:8080/",
          "height": 1000
        }
      },
      "source": [
        "for i, layer in enumerate(model.layers):\n",
        "    \n",
        "    if len(layer.get_weights()) > 0:\n",
        "        w = layer.get_weights()[0]\n",
        "        b = layer.get_weights()[1]\n",
        "        \n",
        "        print('\\nLayer {}: {}\\n'.format(i, layer.name))\n",
        "        print('\\u2022 Weights:\\n', w)\n",
        "        print('\\n\\u2022 Biases:\\n', b)\n",
        "        print('\\nThis layer has a total of {:,} weights and {:,} biases'.format(w.size, b.size))\n",
        "        print('\\n------------------------')\n",
        "    \n",
        "    else:\n",
        "        print('\\nLayer {}: {}\\n'.format(i, layer.name))\n",
        "        print('This layer has no weights or biases.')\n",
        "        print('\\n------------------------')"
      ],
      "execution_count": 55,
      "outputs": [
        {
          "output_type": "stream",
          "text": [
            "\n",
            "Layer 0: flatten_2\n",
            "\n",
            "This layer has no weights or biases.\n",
            "\n",
            "------------------------\n",
            "\n",
            "Layer 1: dense_5\n",
            "\n",
            "• Weights:\n",
            " [[-0.06466817 -0.05479689  0.06683411 ... -0.05758353 -0.0062434\n",
            "   0.05396159]\n",
            " [ 0.00730619  0.06767084  0.01507463 ... -0.05360992  0.03203528\n",
            "   0.02627519]\n",
            " [-0.01694082 -0.06027834  0.03406138 ... -0.0509445   0.04546466\n",
            "  -0.07563961]\n",
            " ...\n",
            " [ 0.03339293 -0.00265687  0.04685892 ... -0.06598537 -0.0615842\n",
            "   0.04397366]\n",
            " [-0.04441699 -0.0128241  -0.06795796 ...  0.06870618  0.05130851\n",
            "  -0.03406934]\n",
            " [-0.03753769  0.06826028 -0.00403748 ... -0.05876809  0.0044665\n",
            "   0.0626896 ]]\n",
            "\n",
            "• Biases:\n",
            " [0. 0. 0. 0. 0. 0. 0. 0. 0. 0. 0. 0. 0. 0. 0. 0. 0. 0. 0. 0. 0. 0. 0. 0.\n",
            " 0. 0. 0. 0. 0. 0. 0. 0. 0. 0. 0. 0. 0. 0. 0. 0. 0. 0. 0. 0. 0. 0. 0. 0.\n",
            " 0. 0. 0. 0. 0. 0. 0. 0. 0. 0. 0. 0. 0. 0. 0. 0. 0. 0. 0. 0. 0. 0. 0. 0.\n",
            " 0. 0. 0. 0. 0. 0. 0. 0. 0. 0. 0. 0. 0. 0. 0. 0. 0. 0. 0. 0. 0. 0. 0. 0.\n",
            " 0. 0. 0. 0. 0. 0. 0. 0. 0. 0. 0. 0. 0. 0. 0. 0. 0. 0. 0. 0. 0. 0. 0. 0.\n",
            " 0. 0. 0. 0. 0. 0. 0. 0. 0. 0. 0. 0. 0. 0. 0. 0. 0. 0. 0. 0. 0. 0. 0. 0.\n",
            " 0. 0. 0. 0. 0. 0. 0. 0. 0. 0. 0. 0. 0. 0. 0. 0. 0. 0. 0. 0. 0. 0. 0. 0.\n",
            " 0. 0. 0. 0. 0. 0. 0. 0. 0. 0. 0. 0. 0. 0. 0. 0. 0. 0. 0. 0. 0. 0. 0. 0.\n",
            " 0. 0. 0. 0. 0. 0. 0. 0. 0. 0. 0. 0. 0. 0. 0. 0. 0. 0. 0. 0. 0. 0. 0. 0.\n",
            " 0. 0. 0. 0. 0. 0. 0. 0. 0. 0. 0. 0. 0. 0. 0. 0. 0. 0. 0. 0. 0. 0. 0. 0.\n",
            " 0. 0. 0. 0. 0. 0. 0. 0. 0. 0. 0. 0. 0. 0. 0. 0.]\n",
            "\n",
            "This layer has a total of 200,704 weights and 256 biases\n",
            "\n",
            "------------------------\n",
            "\n",
            "Layer 2: dense_6\n",
            "\n",
            "• Weights:\n",
            " [[-0.01060753  0.10502616  0.11224318 ...  0.06580995 -0.03125972\n",
            "  -0.01852566]\n",
            " [-0.09390529 -0.08907199 -0.04193854 ...  0.02440007  0.04570457\n",
            "   0.05134247]\n",
            " [ 0.09085259  0.14456078  0.01738888 ...  0.07972553  0.08655789\n",
            "   0.14161679]\n",
            " ...\n",
            " [ 0.11005774  0.067746    0.06868251 ...  0.079153   -0.01670402\n",
            "  -0.02923553]\n",
            " [ 0.03771311 -0.11495044 -0.06302917 ...  0.10031736  0.063017\n",
            "   0.1034328 ]\n",
            " [-0.13208874  0.01269712 -0.00837776 ...  0.13477924 -0.02653126\n",
            "   0.09528872]]\n",
            "\n",
            "• Biases:\n",
            " [0. 0. 0. 0. 0. 0. 0. 0. 0. 0.]\n",
            "\n",
            "This layer has a total of 2,560 weights and 10 biases\n",
            "\n",
            "------------------------\n"
          ],
          "name": "stdout"
        }
      ]
    },
    {
      "cell_type": "markdown",
      "metadata": {
        "colab_type": "text",
        "id": "t8TbtpkxGImY"
      },
      "source": [
        "As we can see, by default, all the biases are initialized to zero.\n",
        "\n",
        "On the other hand, by default, the weights are initialized using a Glorot uniform initializer that draws samples from a uniform distribution within \\[-`limit`, `limit`\\] where `limit` is `sqrt(6 / (fan_in + fan_out))` where `fan_in` is the number of input units in the weight tensor and `fan_out` is the number of output units in the weight tensor.\n",
        "\n",
        "In Keras, you can change the default initialization methods for the weights and biases. To know more about the available initializers check out the links below:\n",
        "\n",
        "* [Available initializers](https://keras.io/initializers/)\n",
        "\n",
        "* [Dense Layer](https://www.tensorflow.org/versions/r2.0/api_docs/python/tf/keras/layers/Dense)"
      ]
    },
    {
      "cell_type": "markdown",
      "metadata": {
        "colab_type": "text",
        "id": "tyHIkuwBkFTK"
      },
      "source": [
        "## Make Predictions\n",
        "\n",
        "To make predictions on a batch of images with our model we use the `.predict(image_batch)` method. This method takes the images in our batch, feeds them to our network, performs a forward pass, and outputs a NumPy ndarray of shape `(batch_size, num_classes)` with the predicted probabilities for each image in the batch. \n",
        "\n",
        "Since we have 64 images per batch (*i.e.* `batch_size = 64`) and our dataset has 10 classes (*i.e.* `num_classes = 10`), then our model will output an array of shape `(64,10)`. The rows in this array hold the predicted probabilities for our images. Consequently, the first row holds the predicted probabilities for the first image in our batch; the second row holds the predicted probabilities for the second image in our batch; the third row holds the predicted probabilities for the third image in our batch; and so on. In this case, the predicted probabilities consist of 10 values, that is, one probability per class. Therefore, for each of the 64 images in our batch we will have 10 probabilities. \n",
        "\n",
        "Let's plot our model's predicted probabilities for the first image in our batch."
      ]
    },
    {
      "cell_type": "code",
      "metadata": {
        "colab_type": "code",
        "id": "MHMK-x15ju84",
        "outputId": "788e1d4f-70e2-4eb0-8dbe-ffe3a573f544",
        "colab": {
          "base_uri": "https://localhost:8080/",
          "height": 252
        }
      },
      "source": [
        "for image_batch, label_batch in training_batches.take(1):\n",
        "    ps = model.predict(image_batch)\n",
        "    first_image = image_batch.numpy().squeeze()[0]\n",
        "\n",
        "\n",
        "fig, (ax1, ax2) = plt.subplots(figsize=(6,9), ncols=2)\n",
        "ax1.imshow(first_image, cmap = plt.cm.binary)\n",
        "ax1.axis('off')\n",
        "ax2.barh(np.arange(10), ps[0])\n",
        "ax2.set_aspect(0.1)\n",
        "ax2.set_yticks(np.arange(10))\n",
        "ax2.set_yticklabels(np.arange(10))\n",
        "ax2.set_title('Class Probability')\n",
        "ax2.set_xlim(0, 1.1)\n",
        "plt.tight_layout()"
      ],
      "execution_count": 56,
      "outputs": [
        {
          "output_type": "display_data",
          "data": {
            "image/png": "[encoded data removed]",
            "text/plain": [
              "<Figure size 432x648 with 2 Axes>"
            ]
          },
          "metadata": {
            "tags": [],
            "image/png": {
              "width": 424,
              "height": 235
            },
            "needs_background": "light"
          }
        }
      ]
    },
    {
      "cell_type": "markdown",
      "metadata": {
        "colab_type": "text",
        "id": "Nez7TYqwjzN0"
      },
      "source": [
        "As you can see above, our model gives every digit roughly the same probability. This means our network has basically no idea what the digit in the image is. This is because we haven't trained our model yet, so all the weights are random!"
      ]
    },
    {
      "cell_type": "markdown",
      "metadata": {
        "colab_type": "text",
        "id": "AHUlGgapoZvf"
      },
      "source": [
        "## Subclassing with TensorFlow and Keras\n",
        "\n",
        "The `tf.keras.Sequential` model is a simple stack of layers that cannot be used to create arbitrary models. Luckily, `tf.keras` gives us the flexibility to build fully-customizable models by subclassing the `tf.keras.Model` and defining our own forward pass.\n",
        "\n",
        "In the following example we will use a subclassed `tf.keras.Model` to build the same neural network as we built above with 784 inputs, 256 hidden units, and 10 output units. As before, we will use a ReLu activation function for the units in the hidden layer, and a Softmax activation function for the output neurons. "
      ]
    },
    {
      "cell_type": "code",
      "metadata": {
        "colab_type": "code",
        "id": "0SeLyZ5_oaSz",
        "colab": {}
      },
      "source": [
        "class Network(tf.keras.Model):\n",
        "    def __init__(self, num_classes = 2):\n",
        "        super().__init__()\n",
        "        self.num_classes = num_classes\n",
        "    \n",
        "        # Define layers \n",
        "        self.input_layer = tf.keras.layers.Flatten()\n",
        "        self.hidden_layer = tf.keras.layers.Dense(256, activation = 'relu')\n",
        "        self.output_layer = tf.keras.layers.Dense(self.num_classes, activation = 'softmax')\n",
        "    \n",
        "    # Define forward Pass   \n",
        "    def call(self, input_tensor):\n",
        "        x = self.input_layer(input_tensor)\n",
        "        x = self.hidden_layer(x)\n",
        "        x = self.output_layer(x)\n",
        "    \n",
        "        return x "
      ],
      "execution_count": 0,
      "outputs": []
    },
    {
      "cell_type": "markdown",
      "metadata": {
        "colab_type": "text",
        "id": "yfJjnjIvojTc"
      },
      "source": [
        "Let's go through this bit by bit.\n",
        "\n",
        "```python\n",
        "class Network(tf.keras.Model):\n",
        "```\n",
        "\n",
        "Here we're inheriting from `tf.keras.Model`. Combined with `super().__init__()` this creates a class that provides a lot of useful methods and attributes. It is mandatory to inherit from `tf.keras.Model` when you're creating a class for your network. However, the name of the class itself can be anything.\n",
        "\n",
        "We then create the layers of our network in the `__init__` method and set them as attributes of the class instance. We also assign the number of neurons in our output layer in the `__init__` method via the `num_classes` argument, which by default will have a value of 2.\n",
        "\n",
        "```python\n",
        "self.input = tf.keras.layers.Flatten()\n",
        "```\n",
        "\n",
        "The first layer flattens the input image as we have discussed previously. We have given this layer the name `self.input`. We will use this name to reference this layer later. It doesn't matter what name you give your layers, you can name them whatever you want.\n",
        "\n",
        "```python\n",
        "self.hidden = tf.keras.layers.Dense(256, activation = 'relu')\n",
        "```\n",
        "\n",
        "The second layer is a fully-connected (dense) layer with 256 neurons and a ReLu activation function. We have given this layer the name `self.hidden`. We will use this name to reference this layer later.\n",
        "\n",
        "```python\n",
        "self.output = tf.keras.layers.Dense(self.num_classes, activation = 'softmax')\n",
        "```\n",
        "\n",
        "The third and last layer (output layer) is also a fully-connected (dense) layer with `self.num_classes` neurons and a softmax activation function. By default the number of output units will be 2, but can be defined to be any other integer depending on the number of output classes of your dataset. \n",
        "\n",
        "Next, we define the forward pass in the `call` method.\n",
        "\n",
        "```python\n",
        "def call(self, input_tensor):\n",
        "```\n",
        "\n",
        "TensorFlow models created with `tf.keras.Model` must have a `call` method defined. In the `call` method we take `input_tensor` and pass it through the layers we defined in the `__init__` method.\n",
        "\n",
        "```python\n",
        "x = self.input(input_tensor)\n",
        "x = self.hidden(x)\n",
        "x = self.output(x)\n",
        "```\n",
        "\n",
        "Here the `input_tensor` is passed through each layer and reassigned to `x`. We can see that the `input_tensor` goes through the `input` layer, then the `hidden` layer, and finally through the `output` layer. The order in which you define the layers in the `__init__` method doesn't matter, but you'll need to sequence the layers correctly in the `call` method. Notice that we are referring to each layer in the `__init__` method by the name we gave them. Remember this names are arbitrary.\n",
        "\n",
        "Now that we have defined our model class we can create a `model` object. Note that we didn't specify the shape of our input tensor in our `Network` class. In this case, the weights and biases will only be initialized when we build our model by calling `build(batch_input_shape)` or when the first call to a training/evaluation method (such as `.fit` or `.evaluate`) is made. We call this a delayed-build pattern.\n",
        "\n",
        "So, now let's create a `model` object and build it (i.e. initialize its weights and biases) by calling `build()`."
      ]
    },
    {
      "cell_type": "code",
      "metadata": {
        "colab_type": "code",
        "id": "FZdpLsXioj_w",
        "outputId": "a5205a15-0fda-4bff-ceee-bbaaf4332216",
        "colab": {
          "base_uri": "https://localhost:8080/",
          "height": 255
        }
      },
      "source": [
        "# Create a model object\n",
        "subclassed_model = Network(10)\n",
        "\n",
        "# Build the model, i.e. initialize the model's weights and biases\n",
        "subclassed_model.build((None, 28, 28, 1))\n",
        "\n",
        "subclassed_model.summary()"
      ],
      "execution_count": 58,
      "outputs": [
        {
          "output_type": "stream",
          "text": [
            "Model: \"network\"\n",
            "_________________________________________________________________\n",
            "Layer (type)                 Output Shape              Param #   \n",
            "=================================================================\n",
            "flatten_4 (Flatten)          multiple                  0         \n",
            "_________________________________________________________________\n",
            "dense_10 (Dense)             multiple                  200960    \n",
            "_________________________________________________________________\n",
            "dense_11 (Dense)             multiple                  2570      \n",
            "=================================================================\n",
            "Total params: 203,530\n",
            "Trainable params: 203,530\n",
            "Non-trainable params: 0\n",
            "_________________________________________________________________\n"
          ],
          "name": "stdout"
        }
      ]
    },
    {
      "cell_type": "markdown",
      "metadata": {
        "colab_type": "text",
        "id": "JvaGttubvdXt"
      },
      "source": [
        "Remember that `None` is used to indicate that any integer may be expected. So, we use `None` to indicate batches of any size are acceptable. \n",
        "\n",
        "While model subclassing offers flexibility, it comes at a cost of greater complexity and more opportunities for\n",
        "user errors. So, we recommend, to always use the simplest tool for the job. "
      ]
    },
    {
      "cell_type": "markdown",
      "metadata": {
        "colab_type": "text",
        "id": "gYc20VqXo3tm"
      },
      "source": [
        "### Your Turn to Build a Neural Network\n",
        "\n",
        "<img src=\"https://github.com/avishekbasak/intro-to-ml-tensorflow/blob/GoogleColab/lessons/intro-to-tensorflow/assets/mlp_mnist.png?raw=1\" width=600px>\n",
        "\n",
        "> **Exercise:** Use the subclassing method to create a network with 784 input units, a hidden layer with 128 units and a ReLU activation, then a hidden layer with 64 units and a ReLU activation, and finally an output layer with 10 units and a softmax activation function. You can use a ReLU activation function by setting `activation = 'relu'`. After you create your model, create a model object and build it."
      ]
    },
    {
      "cell_type": "code",
      "metadata": {
        "colab_type": "code",
        "id": "q4FIQ-BPo1BS",
        "outputId": "26ad4f9d-d048-4b4f-d326-587f77235a3a",
        "colab": {
          "base_uri": "https://localhost:8080/",
          "height": 289
        }
      },
      "source": [
        "## Solution\n",
        "class Neural_Network(tf.keras.Model):\n",
        "  def __init__(self, num_classes = 2):\n",
        "    super().__init__()\n",
        "    self.num_classes = num_classes\n",
        "\n",
        "    #layers\n",
        "    self.input_layer = tf.keras.layers.Flatten()\n",
        "    self.hidden_layer_1 = tf.keras.layers.Dense(128, activation='relu')\n",
        "    self.hidden_layer_2 = tf.keras.layers.Dense(64, activation='relu')\n",
        "    self.output_layer = tf.keras.layers.Dense(self.num_classes, activation='softmax')\n",
        "\n",
        "  #Forward pass\n",
        "  def call(self, input_data):\n",
        "    x = self.input_layer(input_data)\n",
        "    x = self.hidden_layer_1(x)\n",
        "    x = self.hidden_layer_2(x)\n",
        "    x = self.output_layer(x)\n",
        "\n",
        "    return x\n",
        "\n",
        "\n",
        "my_model_2 = Neural_Network(10)\n",
        "my_model_2.build((None,28,28,1))\n",
        "\n",
        "my_model_2.summary()"
      ],
      "execution_count": 64,
      "outputs": [
        {
          "output_type": "stream",
          "text": [
            "Model: \"neural__network_2\"\n",
            "_________________________________________________________________\n",
            "Layer (type)                 Output Shape              Param #   \n",
            "=================================================================\n",
            "flatten_7 (Flatten)          multiple                  0         \n",
            "_________________________________________________________________\n",
            "dense_18 (Dense)             multiple                  100480    \n",
            "_________________________________________________________________\n",
            "dense_19 (Dense)             multiple                  8256      \n",
            "_________________________________________________________________\n",
            "dense_20 (Dense)             multiple                  650       \n",
            "=================================================================\n",
            "Total params: 109,386\n",
            "Trainable params: 109,386\n",
            "Non-trainable params: 0\n",
            "_________________________________________________________________\n"
          ],
          "name": "stdout"
        }
      ]
    },
    {
      "cell_type": "markdown",
      "metadata": {
        "colab_type": "text",
        "id": "fau1iyME_x1M"
      },
      "source": [
        "## Looking at Weights and Biases of Subclassed Models\n",
        "\n",
        "As before, we can get the weights an biases of each layer in our subclassed models. In this case, we can use the name we gave to each layer in the `__init__` method to get the weights and biases of a particular layer. For example, in the exercise we gave the first hidden layer the name `hidden_1`, so we can get the weights an biases from this layer by using:"
      ]
    },
    {
      "cell_type": "code",
      "metadata": {
        "colab_type": "code",
        "id": "hdsFjbmRU_el",
        "outputId": "8fcb3841-3c50-4597-a76e-db004a70384a",
        "colab": {
          "base_uri": "https://localhost:8080/",
          "height": 357
        }
      },
      "source": [
        "w1 = my_model_2.hidden_layer_1.get_weights()[0]\n",
        "b1 = my_model_2.hidden_layer_1.get_weights()[1]\n",
        "\n",
        "print('\\n\\u2022 Weights:\\n', w)\n",
        "print('\\n\\u2022 Biases:\\n', b)\n",
        "print('\\nThis layer has a total of {:,} weights and {:,} biases'.format(w1.size, b1.size))"
      ],
      "execution_count": 65,
      "outputs": [
        {
          "output_type": "stream",
          "text": [
            "\n",
            "• Weights:\n",
            " [[-0.01060753  0.10502616  0.11224318 ...  0.06580995 -0.03125972\n",
            "  -0.01852566]\n",
            " [-0.09390529 -0.08907199 -0.04193854 ...  0.02440007  0.04570457\n",
            "   0.05134247]\n",
            " [ 0.09085259  0.14456078  0.01738888 ...  0.07972553  0.08655789\n",
            "   0.14161679]\n",
            " ...\n",
            " [ 0.11005774  0.067746    0.06868251 ...  0.079153   -0.01670402\n",
            "  -0.02923553]\n",
            " [ 0.03771311 -0.11495044 -0.06302917 ...  0.10031736  0.063017\n",
            "   0.1034328 ]\n",
            " [-0.13208874  0.01269712 -0.00837776 ...  0.13477924 -0.02653126\n",
            "   0.09528872]]\n",
            "\n",
            "• Biases:\n",
            " [0. 0. 0. 0. 0. 0. 0. 0. 0. 0.]\n",
            "\n",
            "This layer has a total of 100,352 weights and 128 biases\n"
          ],
          "name": "stdout"
        }
      ]
    },
    {
      "cell_type": "markdown",
      "metadata": {
        "colab_type": "text",
        "id": "6-y_bv6uBXvs"
      },
      "source": [
        "All the other methods we saw before, such as `.layers`, are also available for subclassed models, so feel free to use them."
      ]
    },
    {
      "cell_type": "markdown",
      "metadata": {
        "colab_type": "text",
        "id": "IAIMbWqEpJuV"
      },
      "source": [
        "## Making Predictions with Subclassed Models\n",
        "\n",
        "Predictions are made in exactly the same way as before. So let's pass an image to our subclassed model and see what we get:"
      ]
    },
    {
      "cell_type": "code",
      "metadata": {
        "colab_type": "code",
        "id": "qFV-XUP9pKSn",
        "outputId": "8a450e30-f92c-4f84-cf98-f7a4872fdfeb",
        "colab": {
          "base_uri": "https://localhost:8080/",
          "height": 252
        }
      },
      "source": [
        "for image_batch, label_batch in training_batches.take(1):\n",
        "    ps = subclassed_model.predict(image_batch)\n",
        "    first_image = image_batch.numpy().squeeze()[0]\n",
        "\n",
        "fig, (ax1, ax2) = plt.subplots(figsize=(6,9), ncols=2)\n",
        "ax1.imshow(first_image, cmap = plt.cm.binary)\n",
        "ax1.axis('off')\n",
        "ax2.barh(np.arange(10), ps[0])\n",
        "ax2.set_aspect(0.1)\n",
        "ax2.set_yticks(np.arange(10))\n",
        "ax2.set_yticklabels(np.arange(10))\n",
        "ax2.set_title('Class Probability')\n",
        "ax2.set_xlim(0, 1.1)\n",
        "plt.tight_layout()"
      ],
      "execution_count": 66,
      "outputs": [
        {
          "output_type": "display_data",
          "data": {
            "image/png": "[encoded data removed]",
            "text/plain": [
              "<Figure size 432x648 with 2 Axes>"
            ]
          },
          "metadata": {
            "tags": [],
            "image/png": {
              "width": 424,
              "height": 235
            },
            "needs_background": "light"
          }
        }
      ]
    },
    {
      "cell_type": "markdown",
      "metadata": {
        "colab_type": "text",
        "id": "GI-f9IzJpO3A"
      },
      "source": [
        "As before, we can see above, our model gives every digit roughly the same probability. This means our network has basically no idea what the digit in the image is. This is because we haven't trained our model yet, so all the weights are random!\n",
        "\n",
        "In the next notebook, we'll see how we can train a neural network to accurately predict the numbers appearing in the MNIST images."
      ]
    },
    {
      "cell_type": "markdown",
      "metadata": {
        "colab_type": "text",
        "id": "vUfsknUC3ctf"
      },
      "source": [
        "## Other Methods to Create Models"
      ]
    },
    {
      "cell_type": "code",
      "metadata": {
        "colab_type": "code",
        "id": "Qlk-03oapl6S",
        "outputId": "33126781-d467-4a7e-8632-fdb3bed0c398",
        "colab": {
          "base_uri": "https://localhost:8080/",
          "height": 255
        }
      },
      "source": [
        "model = tf.keras.Sequential()\n",
        "\n",
        "model.add(tf.keras.layers.Flatten(input_shape = (28,28,1)))\n",
        "model.add(tf.keras.layers.Dense(32, activation='relu'))\n",
        "model.add(tf.keras.layers.Dense(10, activation='softmax'))\n",
        "          \n",
        "model.summary()"
      ],
      "execution_count": 67,
      "outputs": [
        {
          "output_type": "stream",
          "text": [
            "Model: \"sequential_4\"\n",
            "_________________________________________________________________\n",
            "Layer (type)                 Output Shape              Param #   \n",
            "=================================================================\n",
            "flatten_8 (Flatten)          (None, 784)               0         \n",
            "_________________________________________________________________\n",
            "dense_21 (Dense)             (None, 32)                25120     \n",
            "_________________________________________________________________\n",
            "dense_22 (Dense)             (None, 10)                330       \n",
            "=================================================================\n",
            "Total params: 25,450\n",
            "Trainable params: 25,450\n",
            "Non-trainable params: 0\n",
            "_________________________________________________________________\n"
          ],
          "name": "stdout"
        }
      ]
    },
    {
      "cell_type": "code",
      "metadata": {
        "colab_type": "code",
        "id": "oBmAM5Ip15Gg",
        "outputId": "3c6a6e30-4a16-4d7f-a2de-29be484df42d",
        "colab": {
          "base_uri": "https://localhost:8080/",
          "height": 425
        }
      },
      "source": [
        "layer_neurons = [512, 256, 128, 56, 28, 14]\n",
        "\n",
        "model = tf.keras.Sequential()\n",
        "model.add(tf.keras.layers.Flatten(input_shape = (28,28,1)))\n",
        "\n",
        "for neurons in layer_neurons:\n",
        "    model.add(tf.keras.layers.Dense(neurons, activation='relu'))\n",
        "            \n",
        "model.add(tf.keras.layers.Dense(10, activation='softmax'))\n",
        "          \n",
        "model.summary()        "
      ],
      "execution_count": 68,
      "outputs": [
        {
          "output_type": "stream",
          "text": [
            "Model: \"sequential_5\"\n",
            "_________________________________________________________________\n",
            "Layer (type)                 Output Shape              Param #   \n",
            "=================================================================\n",
            "flatten_9 (Flatten)          (None, 784)               0         \n",
            "_________________________________________________________________\n",
            "dense_23 (Dense)             (None, 512)               401920    \n",
            "_________________________________________________________________\n",
            "dense_24 (Dense)             (None, 256)               131328    \n",
            "_________________________________________________________________\n",
            "dense_25 (Dense)             (None, 128)               32896     \n",
            "_________________________________________________________________\n",
            "dense_26 (Dense)             (None, 56)                7224      \n",
            "_________________________________________________________________\n",
            "dense_27 (Dense)             (None, 28)                1596      \n",
            "_________________________________________________________________\n",
            "dense_28 (Dense)             (None, 14)                406       \n",
            "_________________________________________________________________\n",
            "dense_29 (Dense)             (None, 10)                150       \n",
            "=================================================================\n",
            "Total params: 575,520\n",
            "Trainable params: 575,520\n",
            "Non-trainable params: 0\n",
            "_________________________________________________________________\n"
          ],
          "name": "stdout"
        }
      ]
    },
    {
      "cell_type": "markdown",
      "metadata": {
        "colab_type": "text",
        "id": "Weo3uwdrA8di"
      },
      "source": [
        "## Clearing the Graph\n",
        "\n",
        "In order to avoid clutter from old models in the graph, we can use:\n",
        "\n",
        "```python\n",
        "tf.keras.backend.clear_session()\n",
        "```\n",
        "\n",
        "This command deletes the current `tf.keras` graph and creates a new one."
      ]
    },
    {
      "cell_type": "code",
      "metadata": {
        "colab_type": "code",
        "id": "kZ2e667J4Bod",
        "outputId": "4e9fd1e0-757f-420c-c44e-d7367eaca6ec",
        "colab": {
          "base_uri": "https://localhost:8080/",
          "height": 425
        }
      },
      "source": [
        "tf.keras.backend.clear_session()\n",
        "\n",
        "layer_neurons = [512, 256, 128, 56, 28, 14]\n",
        "\n",
        "model = tf.keras.Sequential()\n",
        "model.add(tf.keras.layers.Flatten(input_shape = (28,28,1)))\n",
        "\n",
        "for neurons in layer_neurons:\n",
        "    model.add(tf.keras.layers.Dense(neurons, activation='relu'))\n",
        "            \n",
        "model.add(tf.keras.layers.Dense(10, activation='softmax'))\n",
        "          \n",
        "model.summary()    "
      ],
      "execution_count": 69,
      "outputs": [
        {
          "output_type": "stream",
          "text": [
            "Model: \"sequential\"\n",
            "_________________________________________________________________\n",
            "Layer (type)                 Output Shape              Param #   \n",
            "=================================================================\n",
            "flatten (Flatten)            (None, 784)               0         \n",
            "_________________________________________________________________\n",
            "dense (Dense)                (None, 512)               401920    \n",
            "_________________________________________________________________\n",
            "dense_1 (Dense)              (None, 256)               131328    \n",
            "_________________________________________________________________\n",
            "dense_2 (Dense)              (None, 128)               32896     \n",
            "_________________________________________________________________\n",
            "dense_3 (Dense)              (None, 56)                7224      \n",
            "_________________________________________________________________\n",
            "dense_4 (Dense)              (None, 28)                1596      \n",
            "_________________________________________________________________\n",
            "dense_5 (Dense)              (None, 14)                406       \n",
            "_________________________________________________________________\n",
            "dense_6 (Dense)              (None, 10)                150       \n",
            "=================================================================\n",
            "Total params: 575,520\n",
            "Trainable params: 575,520\n",
            "Non-trainable params: 0\n",
            "_________________________________________________________________\n"
          ],
          "name": "stdout"
        }
      ]
    },
    {
      "cell_type": "code",
      "metadata": {
        "colab_type": "code",
        "id": "ZxZZdnIuA4J2",
        "colab": {}
      },
      "source": [
        ""
      ],
      "execution_count": 0,
      "outputs": []
    }
  ]
}